{
  "nbformat": 4,
  "nbformat_minor": 0,
  "metadata": {
    "colab": {
      "provenance": [],
      "authorship_tag": "ABX9TyMSQM3ZwnKqPvlHHUDZC9Ee",
      "include_colab_link": true
    },
    "kernelspec": {
      "name": "python3",
      "display_name": "Python 3"
    },
    "language_info": {
      "name": "python"
    }
  },
  "cells": [
    {
      "cell_type": "markdown",
      "metadata": {
        "id": "view-in-github",
        "colab_type": "text"
      },
      "source": [
        "<a href=\"https://colab.research.google.com/github/Thukxin/Analyzing-Data-with-Pandas-/blob/main/selenium.ipynb\" target=\"_parent\"><img src=\"https://colab.research.google.com/assets/colab-badge.svg\" alt=\"Open In Colab\"/></a>"
      ]
    },
    {
      "cell_type": "code",
      "metadata": {
        "colab": {
          "base_uri": "https://localhost:8080/"
        },
        "id": "2cd07eda",
        "outputId": "e4939335-799d-4452-9ac8-14e4bae86f97"
      },
      "source": [
        "from selenium import webdriver\n",
        "from selenium.webdriver.common.by import By\n",
        "from selenium.webdriver.chrome.service import Service\n",
        "from webdriver_manager.chrome import ChromeDriverManager\n",
        "from selenium.webdriver.chrome.options import Options\n",
        "import os\n",
        "import shutil\n",
        "\n",
        "# Setup chrome options\n",
        "chrome_options = Options()\n",
        "chrome_options.add_argument(\"--headless\") # Ensure GUI is off\n",
        "chrome_options.add_argument(\"--no-sandbox\")\n",
        "chrome_options.add_argument(\"--disable-dev-shm-usage\")\n",
        "\n",
        "# Install a specific Chrome version that is likely compatible with default ChromeDriver\n",
        "chrome_version = \"114.0.5735.90\"  # Version known to work with older ChromeDriver\n",
        "download_url = f\"https://edgedl.me.gvt1.com/edgedl/chrome/chrome-for-testing/{chrome_version}/linux64/chrome-linux64.zip\"\n",
        "download_path = \"/tmp/chrome-linux64.zip\"\n",
        "extract_path = \"/tmp/chrome-linux64\"\n",
        "\n",
        "os.system(f\"wget {download_url} -O {download_path}\")\n",
        "os.system(f\"unzip {download_path} -d /tmp/\")\n",
        "\n",
        "# Set the binary location in options\n",
        "chrome_options.binary_location = f\"{extract_path}/chrome\"\n",
        "\n",
        "# Use webdriver_manager to handle the ChromeDriver executable\n",
        "# It should download a version compatible with Chrome 114 by default\n",
        "webdriver_service = Service(ChromeDriverManager().install())\n",
        "\n",
        "# Initialize the WebDriver\n",
        "driver = webdriver.Chrome(service=webdriver_service, options=chrome_options)\n",
        "\n",
        "# Sample login page URL (replace with the actual URL)\n",
        "login_url = \"https://practicetestautomation.com/practice-test-login/\"\n",
        "\n",
        "def login(username, password):\n",
        "    driver.get(login_url)\n",
        "    username_field = driver.find_element(By.ID, \"username\")\n",
        "    password_field = driver_field = driver.find_element(By.ID, \"password\")\n",
        "    submit_button = driver.find_element(By.ID, \"submit\")\n",
        "\n",
        "    username_field.send_keys(username)\n",
        "    password_field.send_keys(password)\n",
        "    submit_button.click()\n",
        "\n",
        "    # Check for login success or failure\n",
        "    if \"practicetestautomation.com/logged-in-successfully/\" in driver.current_url:\n",
        "        return True\n",
        "    else:\n",
        "        # Check for an error message for invalid login\n",
        "        try:\n",
        "            error_message = driver.find_element(By.ID, \"error\")\n",
        "            return False # Login failed as expected\n",
        "        except:\n",
        "            return False # Login failed unexpectedly\n",
        "\n",
        "# Test cases\n",
        "valid_username = \"student\"\n",
        "valid_password = \"Password123\"\n",
        "invalid_username = \"wrong_student\"\n",
        "invalid_password = \"wrong_Password123\"\n",
        "\n",
        "# Run valid login test\n",
        "valid_login_success = login(valid_username, valid_password)\n",
        "print(f\"Valid login test: {'Success' if valid_login_success else 'Failure'}\")\n",
        "\n",
        "# Run invalid login test\n",
        "invalid_login_success = login(invalid_username, invalid_password)\n",
        "print(f\"Invalid login test: {'Success' if not invalid_login_success else 'Failure'}\")\n",
        "\n",
        "driver.quit()\n",
        "\n",
        "# Clean up downloaded files\n",
        "# shutil.rmtree(extract_path)\n",
        "# os.remove(download_path)"
      ],
      "execution_count": 24,
      "outputs": [
        {
          "output_type": "stream",
          "name": "stdout",
          "text": [
            "Valid login test: Success\n",
            "Invalid login test: Success\n"
          ]
        }
      ]
    }
  ]
}